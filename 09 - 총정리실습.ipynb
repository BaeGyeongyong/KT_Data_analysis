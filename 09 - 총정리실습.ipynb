{
 "cells": [
  {
   "cell_type": "markdown",
   "metadata": {
    "id": "BFhIXgdYoYGp"
   },
   "source": [
    "# 09 - 종합 실습"
   ]
  },
  {
   "cell_type": "markdown",
   "metadata": {
    "id": "eRPNqQjA9RM8"
   },
   "source": [
    "## (1) 환경 준비"
   ]
  },
  {
   "cell_type": "markdown",
   "metadata": {
    "id": "bbwyNn__bn0Y"
   },
   "source": [
    "### 1) 라이브러리 불러오기"
   ]
  },
  {
   "cell_type": "code",
   "execution_count": 2,
   "metadata": {
    "id": "b9NraxWDnYr1"
   },
   "outputs": [],
   "source": [
    "# 판다스, 넘파이 라이브러리 불러오기\n",
    "import pandas as pd\n",
    "import numpy as np"
   ]
  },
  {
   "cell_type": "markdown",
   "metadata": {
    "id": "U0gIziwkbuYw"
   },
   "source": [
    "### 2) 데이터 불러오기"
   ]
  },
  {
   "cell_type": "markdown",
   "metadata": {
    "id": "iQcDMyxTbwo4"
   },
   "source": [
    "다음 세개의 데이터를 불러와서 저장합시다.\n",
    "\n",
    "* sales : https://raw.githubusercontent.com/DA4BAM/dataset/master/sales.csv\n",
    "* products : https://raw.githubusercontent.com/DA4BAM/dataset/master/products.csv\n",
    "* customers : https://raw.githubusercontent.com/DA4BAM/dataset/master/customers2.csv"
   ]
  },
  {
   "cell_type": "code",
   "execution_count": 3,
   "metadata": {
    "id": "7sVl9_SDbv-a"
   },
   "outputs": [],
   "source": [
    "sales = pd.read_csv('https://raw.githubusercontent.com/DA4BAM/dataset/master/sales.csv')\n",
    "products = pd.read_csv('https://raw.githubusercontent.com/DA4BAM/dataset/master/products.csv')\n",
    "customers = pd.read_csv('https://raw.githubusercontent.com/DA4BAM/dataset/master/customers2.csv')"
   ]
  },
  {
   "cell_type": "markdown",
   "metadata": {
    "id": "jxfAADt-cnhz"
   },
   "source": [
    "세 데이터프레임의 상위 5개 행을 조회하시오."
   ]
  },
  {
   "cell_type": "code",
   "execution_count": 14,
   "metadata": {
    "id": "J9CzRvK0cs9v"
   },
   "outputs": [
    {
     "data": {
      "text/html": [
       "<div>\n",
       "<style scoped>\n",
       "    .dataframe tbody tr th:only-of-type {\n",
       "        vertical-align: middle;\n",
       "    }\n",
       "\n",
       "    .dataframe tbody tr th {\n",
       "        vertical-align: top;\n",
       "    }\n",
       "\n",
       "    .dataframe thead th {\n",
       "        text-align: right;\n",
       "    }\n",
       "</style>\n",
       "<table border=\"1\" class=\"dataframe\">\n",
       "  <thead>\n",
       "    <tr style=\"text-align: right;\">\n",
       "      <th></th>\n",
       "      <th>OrderID</th>\n",
       "      <th>Seq</th>\n",
       "      <th>OrderDate</th>\n",
       "      <th>ProductID</th>\n",
       "      <th>Qty</th>\n",
       "      <th>Amt</th>\n",
       "      <th>CustomerID</th>\n",
       "    </tr>\n",
       "  </thead>\n",
       "  <tbody>\n",
       "    <tr>\n",
       "      <th>0</th>\n",
       "      <td>107</td>\n",
       "      <td>2</td>\n",
       "      <td>2016-01-02</td>\n",
       "      <td>p1036481</td>\n",
       "      <td>2</td>\n",
       "      <td>2100</td>\n",
       "      <td>c150417</td>\n",
       "    </tr>\n",
       "    <tr>\n",
       "      <th>1</th>\n",
       "      <td>69</td>\n",
       "      <td>1</td>\n",
       "      <td>2016-01-02</td>\n",
       "      <td>p1152861</td>\n",
       "      <td>1</td>\n",
       "      <td>1091</td>\n",
       "      <td>c212716</td>\n",
       "    </tr>\n",
       "    <tr>\n",
       "      <th>2</th>\n",
       "      <td>69</td>\n",
       "      <td>7</td>\n",
       "      <td>2016-01-02</td>\n",
       "      <td>p1013161</td>\n",
       "      <td>1</td>\n",
       "      <td>2600</td>\n",
       "      <td>c212716</td>\n",
       "    </tr>\n",
       "    <tr>\n",
       "      <th>3</th>\n",
       "      <td>69</td>\n",
       "      <td>8</td>\n",
       "      <td>2016-01-02</td>\n",
       "      <td>p1005771</td>\n",
       "      <td>1</td>\n",
       "      <td>1650</td>\n",
       "      <td>c212716</td>\n",
       "    </tr>\n",
       "    <tr>\n",
       "      <th>4</th>\n",
       "      <td>69</td>\n",
       "      <td>11</td>\n",
       "      <td>2016-01-02</td>\n",
       "      <td>p1089531</td>\n",
       "      <td>1</td>\n",
       "      <td>2600</td>\n",
       "      <td>c212716</td>\n",
       "    </tr>\n",
       "  </tbody>\n",
       "</table>\n",
       "</div>"
      ],
      "text/plain": [
       "   OrderID  Seq   OrderDate ProductID  Qty   Amt CustomerID\n",
       "0      107    2  2016-01-02  p1036481    2  2100    c150417\n",
       "1       69    1  2016-01-02  p1152861    1  1091    c212716\n",
       "2       69    7  2016-01-02  p1013161    1  2600    c212716\n",
       "3       69    8  2016-01-02  p1005771    1  1650    c212716\n",
       "4       69   11  2016-01-02  p1089531    1  2600    c212716"
      ]
     },
     "execution_count": 14,
     "metadata": {},
     "output_type": "execute_result"
    }
   ],
   "source": [
    "sales.head()"
   ]
  },
  {
   "cell_type": "code",
   "execution_count": 17,
   "metadata": {
    "id": "1tY8pvkUf5v1"
   },
   "outputs": [
    {
     "data": {
      "text/html": [
       "<div>\n",
       "<style scoped>\n",
       "    .dataframe tbody tr th:only-of-type {\n",
       "        vertical-align: middle;\n",
       "    }\n",
       "\n",
       "    .dataframe tbody tr th {\n",
       "        vertical-align: top;\n",
       "    }\n",
       "\n",
       "    .dataframe thead th {\n",
       "        text-align: right;\n",
       "    }\n",
       "</style>\n",
       "<table border=\"1\" class=\"dataframe\">\n",
       "  <thead>\n",
       "    <tr style=\"text-align: right;\">\n",
       "      <th></th>\n",
       "      <th>ProductID</th>\n",
       "      <th>ProductName</th>\n",
       "      <th>Category</th>\n",
       "      <th>SubCategory</th>\n",
       "      <th>CategoryOrd</th>\n",
       "    </tr>\n",
       "  </thead>\n",
       "  <tbody>\n",
       "    <tr>\n",
       "      <th>0</th>\n",
       "      <td>p1052661</td>\n",
       "      <td>새우깡</td>\n",
       "      <td>간식</td>\n",
       "      <td>과자</td>\n",
       "      <td>3</td>\n",
       "    </tr>\n",
       "    <tr>\n",
       "      <th>1</th>\n",
       "      <td>p1054261</td>\n",
       "      <td>고구마스틱</td>\n",
       "      <td>간식</td>\n",
       "      <td>과자</td>\n",
       "      <td>3</td>\n",
       "    </tr>\n",
       "    <tr>\n",
       "      <th>2</th>\n",
       "      <td>p1097821</td>\n",
       "      <td>짱구</td>\n",
       "      <td>간식</td>\n",
       "      <td>과자</td>\n",
       "      <td>3</td>\n",
       "    </tr>\n",
       "    <tr>\n",
       "      <th>3</th>\n",
       "      <td>p1097831</td>\n",
       "      <td>감자칩</td>\n",
       "      <td>간식</td>\n",
       "      <td>과자</td>\n",
       "      <td>3</td>\n",
       "    </tr>\n",
       "    <tr>\n",
       "      <th>4</th>\n",
       "      <td>p1119071</td>\n",
       "      <td>뿌셔뿌셔</td>\n",
       "      <td>간식</td>\n",
       "      <td>과자</td>\n",
       "      <td>3</td>\n",
       "    </tr>\n",
       "  </tbody>\n",
       "</table>\n",
       "</div>"
      ],
      "text/plain": [
       "  ProductID ProductName Category SubCategory  CategoryOrd\n",
       "0  p1052661         새우깡       간식          과자            3\n",
       "1  p1054261       고구마스틱       간식          과자            3\n",
       "2  p1097821          짱구       간식          과자            3\n",
       "3  p1097831         감자칩       간식          과자            3\n",
       "4  p1119071        뿌셔뿌셔       간식          과자            3"
      ]
     },
     "execution_count": 17,
     "metadata": {},
     "output_type": "execute_result"
    }
   ],
   "source": [
    "products.head()"
   ]
  },
  {
   "cell_type": "code",
   "execution_count": 8,
   "metadata": {
    "id": "ZWZSrJLXf7dV"
   },
   "outputs": [
    {
     "data": {
      "text/html": [
       "<div>\n",
       "<style scoped>\n",
       "    .dataframe tbody tr th:only-of-type {\n",
       "        vertical-align: middle;\n",
       "    }\n",
       "\n",
       "    .dataframe tbody tr th {\n",
       "        vertical-align: top;\n",
       "    }\n",
       "\n",
       "    .dataframe thead th {\n",
       "        text-align: right;\n",
       "    }\n",
       "</style>\n",
       "<table border=\"1\" class=\"dataframe\">\n",
       "  <thead>\n",
       "    <tr style=\"text-align: right;\">\n",
       "      <th></th>\n",
       "      <th>CustomerID</th>\n",
       "      <th>RegisterDate</th>\n",
       "      <th>Gender</th>\n",
       "      <th>BirthYear</th>\n",
       "    </tr>\n",
       "  </thead>\n",
       "  <tbody>\n",
       "    <tr>\n",
       "      <th>0</th>\n",
       "      <td>c328222</td>\n",
       "      <td>2014-09-25</td>\n",
       "      <td>F</td>\n",
       "      <td>1960</td>\n",
       "    </tr>\n",
       "    <tr>\n",
       "      <th>1</th>\n",
       "      <td>c281448</td>\n",
       "      <td>2013-06-18</td>\n",
       "      <td>F</td>\n",
       "      <td>1974</td>\n",
       "    </tr>\n",
       "    <tr>\n",
       "      <th>2</th>\n",
       "      <td>c038336</td>\n",
       "      <td>2003-10-10</td>\n",
       "      <td>F</td>\n",
       "      <td>1968</td>\n",
       "    </tr>\n",
       "    <tr>\n",
       "      <th>3</th>\n",
       "      <td>c084237</td>\n",
       "      <td>2007-03-09</td>\n",
       "      <td>F</td>\n",
       "      <td>1982</td>\n",
       "    </tr>\n",
       "    <tr>\n",
       "      <th>4</th>\n",
       "      <td>c162600</td>\n",
       "      <td>2010-06-14</td>\n",
       "      <td>F</td>\n",
       "      <td>1978</td>\n",
       "    </tr>\n",
       "  </tbody>\n",
       "</table>\n",
       "</div>"
      ],
      "text/plain": [
       "  CustomerID RegisterDate Gender  BirthYear\n",
       "0    c328222   2014-09-25      F       1960\n",
       "1    c281448   2013-06-18      F       1974\n",
       "2    c038336   2003-10-10      F       1968\n",
       "3    c084237   2007-03-09      F       1982\n",
       "4    c162600   2010-06-14      F       1978"
      ]
     },
     "execution_count": 8,
     "metadata": {},
     "output_type": "execute_result"
    }
   ],
   "source": [
    "customers.head()"
   ]
  },
  {
   "cell_type": "markdown",
   "metadata": {
    "id": "jMuRJ6NccVXh"
   },
   "source": [
    "## (2) 데이터 집계, 수정, 조회하기"
   ]
  },
  {
   "cell_type": "markdown",
   "metadata": {
    "id": "DGmzNt-AcVXh"
   },
   "source": [
    "### 1) sales의 ProductID 별 판매량(Qty)과 판매액(Amt)의 합계를 tmp에 저장하고 조회하시오."
   ]
  },
  {
   "cell_type": "code",
   "execution_count": 33,
   "metadata": {
    "id": "BQR_SDN5cVXi"
   },
   "outputs": [
    {
     "data": {
      "text/plain": [
       "ProductID\n",
       "p1001771     3355882\n",
       "p1002841    11012444\n",
       "p1005621     2602609\n",
       "p1005771     7323926\n",
       "p1005891    10124231\n",
       "              ...   \n",
       "p1246581     2458526\n",
       "p1255281      956442\n",
       "p1256521     1242246\n",
       "p1284851     6439673\n",
       "p1299491     1094849\n",
       "Length: 62, dtype: int64"
      ]
     },
     "execution_count": 33,
     "metadata": {},
     "output_type": "execute_result"
    }
   ],
   "source": [
    "tmp = sales.groupby('ProductID')['Qty'].sum() + sales.groupby('ProductID')['Amt'].sum()\n",
    "tmp"
   ]
  },
  {
   "cell_type": "markdown",
   "metadata": {
    "id": "DMOy9kfpgVom"
   },
   "source": [
    "### 2)  1번 결과를 판매액 기준 내림차순으로 정렬하고 상위 5개 상품을 조회하시오.  \n",
    "(매출액 상위 5개 상품을 조회하시오.)"
   ]
  },
  {
   "cell_type": "code",
   "execution_count": 36,
   "metadata": {
    "id": "7ZiF4WVMgVon"
   },
   "outputs": [
    {
     "data": {
      "text/plain": [
       "ProductID\n",
       "p1072601    18133125\n",
       "p1178011    14080471\n",
       "p1002841    11012444\n",
       "p1005891    10124231\n",
       "p1194801     7518654\n",
       "dtype: int64"
      ]
     },
     "execution_count": 36,
     "metadata": {},
     "output_type": "execute_result"
    }
   ],
   "source": [
    "tmp.sort_values(ascending = False).head()"
   ]
  },
  {
   "cell_type": "markdown",
   "metadata": {
    "id": "S_sqc9exdaQj"
   },
   "source": [
    "### 3) customers의 성별(Gender) 별 고객 수를 조회하시오."
   ]
  },
  {
   "cell_type": "code",
   "execution_count": 38,
   "metadata": {
    "id": "G6ahip2DdaQr"
   },
   "outputs": [
    {
     "data": {
      "text/html": [
       "<div>\n",
       "<style scoped>\n",
       "    .dataframe tbody tr th:only-of-type {\n",
       "        vertical-align: middle;\n",
       "    }\n",
       "\n",
       "    .dataframe tbody tr th {\n",
       "        vertical-align: top;\n",
       "    }\n",
       "\n",
       "    .dataframe thead th {\n",
       "        text-align: right;\n",
       "    }\n",
       "</style>\n",
       "<table border=\"1\" class=\"dataframe\">\n",
       "  <thead>\n",
       "    <tr style=\"text-align: right;\">\n",
       "      <th></th>\n",
       "      <th>BirthYear</th>\n",
       "    </tr>\n",
       "    <tr>\n",
       "      <th>Gender</th>\n",
       "      <th></th>\n",
       "    </tr>\n",
       "  </thead>\n",
       "  <tbody>\n",
       "    <tr>\n",
       "      <th>F</th>\n",
       "      <td>4060490</td>\n",
       "    </tr>\n",
       "    <tr>\n",
       "      <th>M</th>\n",
       "      <td>360704</td>\n",
       "    </tr>\n",
       "  </tbody>\n",
       "</table>\n",
       "</div>"
      ],
      "text/plain": [
       "        BirthYear\n",
       "Gender           \n",
       "F         4060490\n",
       "M          360704"
      ]
     },
     "execution_count": 38,
     "metadata": {},
     "output_type": "execute_result"
    }
   ],
   "source": [
    "customers.groupby('Gender').sum()"
   ]
  },
  {
   "cell_type": "markdown",
   "metadata": {
    "id": "GMfD-8-gfgFn"
   },
   "source": [
    "### 4) customers의 출생연도(BirthYear) 로 부터 나이(Age)를 계산해서 변수로 추가하시오."
   ]
  },
  {
   "cell_type": "code",
   "execution_count": 39,
   "metadata": {
    "id": "FNgZrhqrfgF1"
   },
   "outputs": [],
   "source": [
    "customers['Age'] = 2022-customers['BirthYear']"
   ]
  },
  {
   "cell_type": "markdown",
   "metadata": {
    "id": "HojPPCg-hKbo"
   },
   "source": [
    "### 5) customers의 나이(Age)를 나이대(AgeGroup)로 변환하시오.\n",
    "\n",
    "* [ , 30)  : 30미만\n",
    "* [30, 40) : 30대\n",
    "* [40, 50) : 40대\n",
    "* [50, 60) : 50대\n",
    "* [60, 70) : 60대\n",
    "* [70, )   : 70이상\n",
    "\n",
    "> [30, 40) 의 의미 : 30 <= ,  < 40"
   ]
  },
  {
   "cell_type": "code",
   "execution_count": 43,
   "metadata": {
    "id": "84Qi9owGhKbp"
   },
   "outputs": [],
   "source": [
    "bin = [-np.inf,30,40,50,60,70,np.inf]\n",
    "customers['AgeGroup'] = pd.cut(customers['Age'],bins=bin,labels = ['30미만','30대','40대','50대','60대','70이상'])"
   ]
  },
  {
   "cell_type": "markdown",
   "metadata": {
    "id": "dQFlWG09jq7x"
   },
   "source": [
    "### 6) customers의 나이대(AgeGroup) 별 고객수를 구해 봅시다."
   ]
  },
  {
   "cell_type": "code",
   "execution_count": 46,
   "metadata": {
    "id": "gsnU0dfkjq7y"
   },
   "outputs": [
    {
     "data": {
      "text/plain": [
       "AgeGroup\n",
       "30미만      9\n",
       "30대     236\n",
       "40대     966\n",
       "50대     696\n",
       "60대     242\n",
       "70이상     94\n",
       "Name: CustomerID, dtype: int64"
      ]
     },
     "execution_count": 46,
     "metadata": {},
     "output_type": "execute_result"
    }
   ],
   "source": [
    "customers.groupby('AgeGroup')['CustomerID'].count()"
   ]
  },
  {
   "cell_type": "markdown",
   "metadata": {
    "id": "bdHV4xvlj_LN"
   },
   "source": [
    "### 7) 매출액 top 5 상품명을 조회해 봅시다.\n",
    "\n",
    "* 매출액은 sales에 있고, 상품명은 products에 있습니다. 한꺼번에 조회하려면 merge를 사용해야 합니다.\n",
    "    * 1) sales와 products를 ProductID 기준으로 inner 조인을 합시다.\n",
    "    * 2) 상품명 별 매출액 합계를 집계합니다. \n",
    "    * 3) 매출액 합계 기준 내림차순으로 정렬하고 top 5를 조죄합니다.\n"
   ]
  },
  {
   "cell_type": "code",
   "execution_count": 47,
   "metadata": {
    "id": "KnEZgZtDj_LO"
   },
   "outputs": [
    {
     "data": {
      "text/html": [
       "<div>\n",
       "<style scoped>\n",
       "    .dataframe tbody tr th:only-of-type {\n",
       "        vertical-align: middle;\n",
       "    }\n",
       "\n",
       "    .dataframe tbody tr th {\n",
       "        vertical-align: top;\n",
       "    }\n",
       "\n",
       "    .dataframe thead th {\n",
       "        text-align: right;\n",
       "    }\n",
       "</style>\n",
       "<table border=\"1\" class=\"dataframe\">\n",
       "  <thead>\n",
       "    <tr style=\"text-align: right;\">\n",
       "      <th></th>\n",
       "      <th>OrderID</th>\n",
       "      <th>Seq</th>\n",
       "      <th>OrderDate</th>\n",
       "      <th>ProductID</th>\n",
       "      <th>Qty</th>\n",
       "      <th>Amt</th>\n",
       "      <th>CustomerID</th>\n",
       "      <th>ProductName</th>\n",
       "      <th>Category</th>\n",
       "      <th>SubCategory</th>\n",
       "      <th>CategoryOrd</th>\n",
       "    </tr>\n",
       "  </thead>\n",
       "  <tbody>\n",
       "    <tr>\n",
       "      <th>0</th>\n",
       "      <td>107</td>\n",
       "      <td>2</td>\n",
       "      <td>2016-01-02</td>\n",
       "      <td>p1036481</td>\n",
       "      <td>2</td>\n",
       "      <td>2100</td>\n",
       "      <td>c150417</td>\n",
       "      <td>순두부</td>\n",
       "      <td>반찬류</td>\n",
       "      <td>두부</td>\n",
       "      <td>1</td>\n",
       "    </tr>\n",
       "    <tr>\n",
       "      <th>1</th>\n",
       "      <td>137</td>\n",
       "      <td>4</td>\n",
       "      <td>2016-01-02</td>\n",
       "      <td>p1036481</td>\n",
       "      <td>2</td>\n",
       "      <td>2100</td>\n",
       "      <td>c280590</td>\n",
       "      <td>순두부</td>\n",
       "      <td>반찬류</td>\n",
       "      <td>두부</td>\n",
       "      <td>1</td>\n",
       "    </tr>\n",
       "    <tr>\n",
       "      <th>2</th>\n",
       "      <td>63</td>\n",
       "      <td>16</td>\n",
       "      <td>2016-01-03</td>\n",
       "      <td>p1036481</td>\n",
       "      <td>1</td>\n",
       "      <td>1050</td>\n",
       "      <td>c037915</td>\n",
       "      <td>순두부</td>\n",
       "      <td>반찬류</td>\n",
       "      <td>두부</td>\n",
       "      <td>1</td>\n",
       "    </tr>\n",
       "    <tr>\n",
       "      <th>3</th>\n",
       "      <td>135</td>\n",
       "      <td>3</td>\n",
       "      <td>2016-01-04</td>\n",
       "      <td>p1036481</td>\n",
       "      <td>3</td>\n",
       "      <td>3150</td>\n",
       "      <td>c100815</td>\n",
       "      <td>순두부</td>\n",
       "      <td>반찬류</td>\n",
       "      <td>두부</td>\n",
       "      <td>1</td>\n",
       "    </tr>\n",
       "    <tr>\n",
       "      <th>4</th>\n",
       "      <td>63</td>\n",
       "      <td>13</td>\n",
       "      <td>2016-01-06</td>\n",
       "      <td>p1036481</td>\n",
       "      <td>10</td>\n",
       "      <td>10500</td>\n",
       "      <td>c048405</td>\n",
       "      <td>순두부</td>\n",
       "      <td>반찬류</td>\n",
       "      <td>두부</td>\n",
       "      <td>1</td>\n",
       "    </tr>\n",
       "  </tbody>\n",
       "</table>\n",
       "</div>"
      ],
      "text/plain": [
       "   OrderID  Seq   OrderDate ProductID  Qty    Amt CustomerID ProductName  \\\n",
       "0      107    2  2016-01-02  p1036481    2   2100    c150417         순두부   \n",
       "1      137    4  2016-01-02  p1036481    2   2100    c280590         순두부   \n",
       "2       63   16  2016-01-03  p1036481    1   1050    c037915         순두부   \n",
       "3      135    3  2016-01-04  p1036481    3   3150    c100815         순두부   \n",
       "4       63   13  2016-01-06  p1036481   10  10500    c048405         순두부   \n",
       "\n",
       "  Category SubCategory  CategoryOrd  \n",
       "0      반찬류          두부            1  \n",
       "1      반찬류          두부            1  \n",
       "2      반찬류          두부            1  \n",
       "3      반찬류          두부            1  \n",
       "4      반찬류          두부            1  "
      ]
     },
     "execution_count": 47,
     "metadata": {},
     "output_type": "execute_result"
    }
   ],
   "source": [
    "# 1) sales와 products를 ProductID 기준으로 inner 조인을 합시다.\n",
    "temp = pd.merge(sales,products,on='ProductID',how='inner')"
   ]
  },
  {
   "cell_type": "code",
   "execution_count": 51,
   "metadata": {
    "id": "phaevIemkura"
   },
   "outputs": [],
   "source": [
    "# 2) 2) 상품명 별 매출액 합계를 집계합니다.\n",
    "temp2 = temp.groupby('ProductName')['Amt'].sum()\n"
   ]
  },
  {
   "cell_type": "code",
   "execution_count": 52,
   "metadata": {
    "id": "NRC5dKFolIWf"
   },
   "outputs": [
    {
     "data": {
      "text/plain": [
       "ProductName\n",
       "우유1000    18129067\n",
       "사과_소      14078818\n",
       "딸기_대      11011541\n",
       "두부_대      10119037\n",
       "딸기_소       7517664\n",
       "Name: Amt, dtype: int64"
      ]
     },
     "execution_count": 52,
     "metadata": {},
     "output_type": "execute_result"
    }
   ],
   "source": [
    "# 3) 매출액 합계 기준 내림차순으로 정렬하고 top 5를 조죄합니다.\n",
    "temp2.sort_values(ascending = False).head()\n"
   ]
  },
  {
   "cell_type": "markdown",
   "metadata": {
    "id": "AxRB-sH7lX-f"
   },
   "source": [
    "### 8) 연령대 별 매출액을 조회합시다.\n",
    "\n",
    "* 매출액은 sales에 있고, 연령대(AgeGroup)은 customers에 있습니다. 한꺼번에 조회하려면 merge를 사용해야 합니다.\n"
   ]
  },
  {
   "cell_type": "code",
   "execution_count": 53,
   "metadata": {
    "id": "9xsL0f0IlX-g"
   },
   "outputs": [],
   "source": [
    "# 1) sales와 customers를  CustomerID 기준으로 inner 조인을 합시다.\n",
    "temp3 = pd.merge(sales,customers,on='CustomerID',how = 'inner')\n"
   ]
  },
  {
   "cell_type": "code",
   "execution_count": 54,
   "metadata": {
    "id": "5VJpAGqzlX-h"
   },
   "outputs": [
    {
     "data": {
      "text/plain": [
       "AgeGroup\n",
       "30미만      283767\n",
       "30대     15894418\n",
       "40대     90520765\n",
       "50대     63994308\n",
       "60대     18295892\n",
       "70이상     6010318\n",
       "Name: Amt, dtype: int64"
      ]
     },
     "execution_count": 54,
     "metadata": {},
     "output_type": "execute_result"
    }
   ],
   "source": [
    "# 2) AgeGroup 별 매출액 합계를 집계합니다.\n",
    "temp3.groupby('AgeGroup')['Amt'].sum()\n"
   ]
  },
  {
   "cell_type": "markdown",
   "metadata": {
    "id": "giPbG_fcmZ9u"
   },
   "source": [
    "### 9) [심화]연령대 별, 상품 카테고리 매출 비중(%)을 조회합시다.\n",
    "\n",
    "* 1) 세 데이터프레임을 merge 해야 합니다.\n",
    "    * merge는 한번에 두개씩만 가능하므로, 두번 수행합니다.\n",
    "* 2) for loop를 이용하여, 각 연령대에 대해서 다음의 작업을 반복 수행합니다. \n",
    "    * 하나의 연령대 값에 대해서, \n",
    "        * 상품 카테고리(Category)별 매출액 합계를 구합니다.\n",
    "        * 연령대에 해당하는 전체 매출액으로 나눠서, 카테고리별 비율을 계산합니다.\n",
    "        * 결과를 출력합니다.\n",
    "\n"
   ]
  },
  {
   "cell_type": "code",
   "execution_count": 55,
   "metadata": {
    "id": "r2JNeeWamZ9v"
   },
   "outputs": [],
   "source": [
    "# 1) 세 데이터프레임을 merge \n",
    "a = pd.merge(sales,products,on='ProductID',how='inner')\n",
    "total = pd.merge(a,customers,on='CustomerID',how='inner')\n"
   ]
  },
  {
   "cell_type": "code",
   "execution_count": 81,
   "metadata": {
    "id": "UE-R_bhKmZ9v"
   },
   "outputs": [
    {
     "name": "stdout",
     "output_type": "stream",
     "text": [
      "30미만\n",
      "Category\n",
      "간식     0.128979\n",
      "과일     0.218137\n",
      "반찬류    0.239348\n",
      "유제품    0.140658\n",
      "채소     0.272879\n",
      "Name: Amt, dtype: float64\n",
      "30대\n",
      "Category\n",
      "간식     0.065935\n",
      "과일     0.269342\n",
      "반찬류    0.118283\n",
      "유제품    0.274941\n",
      "채소     0.271499\n",
      "Name: Amt, dtype: float64\n",
      "40대\n",
      "Category\n",
      "간식     0.082607\n",
      "과일     0.260447\n",
      "반찬류    0.141450\n",
      "유제품    0.252397\n",
      "채소     0.263098\n",
      "Name: Amt, dtype: float64\n",
      "50대\n",
      "Category\n",
      "간식     0.056672\n",
      "과일     0.250408\n",
      "반찬류    0.175663\n",
      "유제품    0.225107\n",
      "채소     0.292151\n",
      "Name: Amt, dtype: float64\n",
      "60대\n",
      "Category\n",
      "간식     0.032321\n",
      "과일     0.229957\n",
      "반찬류    0.249359\n",
      "유제품    0.160552\n",
      "채소     0.327811\n",
      "Name: Amt, dtype: float64\n",
      "70이상\n",
      "Category\n",
      "간식     0.023342\n",
      "과일     0.272638\n",
      "반찬류    0.274355\n",
      "유제품    0.110113\n",
      "채소     0.319553\n",
      "Name: Amt, dtype: float64\n"
     ]
    }
   ],
   "source": [
    "# 2) for loop를 이용하여, 각 연령대에 대해서 다음의 작업을 반복 수행합니다\n",
    "for i in age:\n",
    "    print(i)\n",
    "    print((total.loc[total['AgeGroup']==i].groupby('Category')['Amt'].sum()/ #그 연령대의 카테고리별 매출액 합\n",
    "           (total.loc[total['AgeGroup']==i]['Amt'].sum())))# 그 연령대의 전체 매출액 합\n"
   ]
  }
 ],
 "metadata": {
  "colab": {
   "collapsed_sections": [],
   "name": "09 - 총정리실습.ipynb",
   "provenance": [],
   "toc_visible": true
  },
  "kernelspec": {
   "display_name": "Python 3",
   "language": "python",
   "name": "python3"
  },
  "language_info": {
   "codemirror_mode": {
    "name": "ipython",
    "version": 3
   },
   "file_extension": ".py",
   "mimetype": "text/x-python",
   "name": "python",
   "nbconvert_exporter": "python",
   "pygments_lexer": "ipython3",
   "version": "3.8.8"
  }
 },
 "nbformat": 4,
 "nbformat_minor": 1
}
